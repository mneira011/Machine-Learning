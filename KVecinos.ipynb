{
 "cells": [
  {
   "cell_type": "code",
   "execution_count": 1,
   "metadata": {
    "collapsed": false
   },
   "outputs": [
    {
     "name": "stdout",
     "output_type": "stream",
     "text": [
      "Populating the interactive namespace from numpy and matplotlib\n"
     ]
    }
   ],
   "source": [
    "%pylab inline\n"
   ]
  },
  {
   "cell_type": "code",
   "execution_count": 2,
   "metadata": {
    "collapsed": false
   },
   "outputs": [],
   "source": [
    " data = np.loadtxt(\"fake_classification.txt\")"
   ]
  },
  {
   "cell_type": "code",
   "execution_count": 3,
   "metadata": {
    "collapsed": false
   },
   "outputs": [],
   "source": [
    "train = data[0:int(0.75*len(data)) ]\n",
    "test = data[int(0.75*len(data)):]\n"
   ]
  },
  {
   "cell_type": "code",
   "execution_count": 16,
   "metadata": {
    "collapsed": false
   },
   "outputs": [],
   "source": [
    "def clasificar(data,point,k):\n",
    "    dists = []\n",
    "    for i in data:\n",
    "        distancia = (i[0]-point[0])**2.0+(i[1]-point[1])**2.0\n",
    "        \n",
    "        dists.append([i,distancia])\n",
    "    a = np.array(dists)\n",
    "    mins= []\n",
    "    for i in range(k):\n",
    "        ind = (where(a[:,1]==min(a[:,1]))[0][0])\n",
    "\n",
    "        mins.append(a[ind][0][2])\n",
    "        a = np.delete(a,ind,0)\n",
    "    mins = np.array(mins)\n",
    "    unos = 0\n",
    "    for i in mins:\n",
    "        if i==1.0:\n",
    "            unos +=1\n",
    "    ceros = k-unos\n",
    "    if(unos>ceros):\n",
    "        return 1.0\n",
    "    elif(unos<ceros):\n",
    "        return 0.0\n",
    "    else:\n",
    "        rand = random.random()\n",
    "        if(rand<0.5):\n",
    "            return 0\n",
    "        else:\n",
    "            return 1"
   ]
  },
  {
   "cell_type": "code",
   "execution_count": 17,
   "metadata": {
    "collapsed": false
   },
   "outputs": [],
   "source": [
    "test_in = test[:,0:2]\n",
    "test_out =  test[:,2]"
   ]
  },
  {
   "cell_type": "code",
   "execution_count": 18,
   "metadata": {
    "collapsed": true
   },
   "outputs": [],
   "source": [
    "def percent(k):\n",
    "    outs=[]\n",
    "    for i in test_in:\n",
    "        outs.append(clasificar(train,i,k))\n",
    "    tot = len(test)\n",
    "    acert=0\n",
    "    for i in range(len(test)):\n",
    "        if(outs[i]==test_out[i]):\n",
    "            acert +=1\n",
    "    acert = float(acert)\n",
    "    return (acert*100.0/tot)"
   ]
  },
  {
   "cell_type": "code",
   "execution_count": 29,
   "metadata": {
    "collapsed": true
   },
   "outputs": [],
   "source": [
    "def graficar(k):\n",
    "    ys= []\n",
    "    xs=[]\n",
    "    for i in range(1,k):\n",
    "        xs.append(i)\n",
    "        ys.append(percent(i))\n",
    "    plt.scatter(xs,ys,)\n",
    "    print(\"El mayor porcentaje de acierto es: \" +str(max(ys))+\"%\")"
   ]
  },
  {
   "cell_type": "code",
   "execution_count": 30,
   "metadata": {
    "collapsed": false
   },
   "outputs": [
    {
     "name": "stdout",
     "output_type": "stream",
     "text": [
      "El mayor porcentaje de acierto es: 96.5%\n"
     ]
    },
    {
     "data": {
      "image/png": "[encoded data removed]",
      "text/plain": [
       "<matplotlib.figure.Figure at 0x7f1a935f6b50>"
      ]
     },
     "metadata": {},
     "output_type": "display_data"
    }
   ],
   "source": [
    "graficar(75)"
   ]
  },
  {
   "cell_type": "code",
   "execution_count": null,
   "metadata": {
    "collapsed": false
   },
   "outputs": [],
   "source": []
  },
  {
   "cell_type": "code",
   "execution_count": null,
   "metadata": {
    "collapsed": false
   },
   "outputs": [],
   "source": []
  },
  {
   "cell_type": "code",
   "execution_count": null,
   "metadata": {
    "collapsed": true
   },
   "outputs": [],
   "source": []
  }
 ],
 "metadata": {
  "kernelspec": {
   "display_name": "Python 2",
   "language": "python",
   "name": "python2"
  },
  "language_info": {
   "codemirror_mode": {
    "name": "ipython",
    "version": 2
   },
   "file_extension": ".py",
   "mimetype": "text/x-python",
   "name": "python",
   "nbconvert_exporter": "python",
   "pygments_lexer": "ipython2",
   "version": "2.7.6"
  }
 },
 "nbformat": 4,
 "nbformat_minor": 0
}
